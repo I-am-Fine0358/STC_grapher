{
 "cells": [
  {
   "cell_type": "code",
   "execution_count": 3,
   "metadata": {},
   "outputs": [
    {
     "name": "stdout",
     "output_type": "stream",
     "text": [
      "9\n"
     ]
    },
    {
     "name": "stderr",
     "output_type": "stream",
     "text": [
      "/var/folders/8f/jj65qb91607247cr1jycxhq00000gn/T/ipykernel_69008/3951172254.py:45: FutureWarning: The behavior of DataFrame concatenation with empty or all-NA entries is deprecated. In a future version, this will no longer exclude empty or all-NA columns when determining the result dtypes. To retain the old behavior, exclude the relevant entries before the concat operation.\n",
      "  data_extracted = pd.concat([data_extracted, extract_time_and_voltage(file_path, header_extracted)], ignore_index=True)\n"
     ]
    },
    {
     "data": {
      "image/png": "[encoded data removed]",
      "text/plain": [
       "<Figure size 640x480 with 1 Axes>"
      ]
     },
     "metadata": {},
     "output_type": "display_data"
    },
    {
     "name": "stdout",
     "output_type": "stream",
     "text": [
      "            time/s         Ewe/V\n",
      "0      7506.060055 -4.585569e-01\n",
      "1      7506.165055 -4.485430e-01\n",
      "2      7506.463855 -4.384434e-01\n",
      "3      7507.269455 -4.284306e-01\n",
      "4      7509.603055 -4.184236e-01\n",
      "...            ...           ...\n",
      "3712  69401.930896 -2.462593e-02\n",
      "3713  69410.632094 -1.462273e-02\n",
      "3714  69419.348092 -4.619531e-03\n",
      "3715  69423.329491  2.661782e-07\n",
      "3716  69423.329691 -6.082196e-05\n",
      "\n",
      "[3717 rows x 2 columns]\n"
     ]
    }
   ],
   "source": [
    "import pandas as pd\n",
    "import os\n",
    "import glob\n",
    "from matplotlib import pyplot as plt\n",
    "\n",
    "def read_mpt_files(path):\n",
    "    # フォルダ内の全てのmptファイルを取得\n",
    "    mpt_files = glob.glob(path + \"/*.mpt\")\n",
    "    # ただし、ファイル名にCVが含まれるものは除外\n",
    "    mpt_files = [file for file in mpt_files if not \"_CV\" in file]\n",
    "    # ファイル名を昇順にソート\n",
    "    mpt_files.sort()\n",
    "    print(len(mpt_files))\n",
    "    return mpt_files\n",
    "\n",
    "def determine_header_lines(file_path, keyword='Nb header lines'):\n",
    "    with open(file_path, 'r') as file:\n",
    "        lines = file.readlines()\n",
    "        for i, line in enumerate(lines):\n",
    "            if keyword in line:\n",
    "                header_lines = int(line.split(':')[1].strip())\n",
    "                return header_lines\n",
    "    return 0  # Default if keyword is not found\n",
    "\n",
    "def extract_time_and_voltage(file_path, header_line):\n",
    "    df = pd.read_csv(file_path, skiprows=header_line-1, delimiter='\\t')\n",
    "    column_names = df.columns\n",
    "    # 必要な列が存在するかどうかをチェックし、存在する場合のみ抽出\n",
    "    required_columns = [\"time/s\", \"Ewe/V\"]\n",
    "    existing_columns = [col for col in required_columns if col in column_names]\n",
    "    if len(existing_columns) == len(required_columns):\n",
    "        return df[existing_columns]\n",
    "    else:\n",
    "        # 必要な列が存在しない場合は、エラーメッセージを表示または空のDataFrameを返す\n",
    "        print(f\"Error: Required columns {required_columns} not found in {file_path}\")\n",
    "        return pd.DataFrame()\n",
    "\n",
    "def CP_grapher(folder_path):\n",
    "    all_mpts = read_mpt_files(folder_path)\n",
    "\n",
    "    data_extracted = pd.DataFrame()\n",
    "\n",
    "    for file_path in all_mpts:\n",
    "        header_extracted = determine_header_lines(file_path)\n",
    "        data_extracted = pd.concat([data_extracted, extract_time_and_voltage(file_path, header_extracted)], ignore_index=True)\n",
    "        extract_time_and_voltage(file_path, header_extracted).to_csv(file_path.replace(\".mpt\",\".csv\"), index=False, encoding='utf-8')\n",
    "\n",
    "    plt.plot(data_extracted[\"time/s\"], data_extracted[\"Ewe/V\"])\n",
    "    plt.show()\n",
    "\n",
    "if __name__ == \"__main__\":\n",
    "    CP_grapher(\"/Users/genkioyafuso/Documents/Sacci_lab/STC_grapher/data_dir/\")\n"
   ]
  },
  {
   "cell_type": "code",
   "execution_count": null,
   "metadata": {},
   "outputs": [],
   "source": [
    "import pandas as pd\n",
    "import glob\n",
    "from matplotlib import pyplot as plt\n",
    "import streamlit as st\n",
    "\n",
    "def read_mpt_files(path):\n",
    "    # フォルダ内の全てのmptファイルを取得\n",
    "    mpt_files = glob.glob(path + \"/*.mpt\")\n",
    "    # ただし、ファイル名に完全一致で\"CV\"が含まれるものは除外\n",
    "    mpt_files_except_CV = [file for file in mpt_files if not \"CV\" in file]\n",
    "    # mpt_files_except_CVに\"OCV\"が含まれるものを追加\n",
    "    for file in mpt_files:\n",
    "        if \"OCV\" in file:\n",
    "            mpt_files_except_CV.append(file)\n",
    "    return mpt_files_except_CV\n",
    "\n",
    "def determine_header_lines(file_path, keyword='Nb header lines'):\n",
    "    with open(file_path, 'r') as file:\n",
    "        lines = file.readlines()\n",
    "        for i, line in enumerate(lines):\n",
    "            if keyword in line:\n",
    "                header_lines = int(line.split(':')[1].strip())\n",
    "                return header_lines\n",
    "    return 0  # Default if keyword is not found\n",
    "\n",
    "def extract_time_and_voltage(file_path, header_line):\n",
    "    df = pd.read_csv(file_path, skiprows=header_line-1, delimiter='\\t')\n",
    "    return df[[\"time/s\", \"Ewe/V\"]]\n",
    "\n",
    "def CP_grapher(folder_path):\n",
    "    all_mpts = read_mpt_files(folder_path)\n",
    "\n",
    "    data_extracted = pd.DataFrame()\n",
    "    fig = plt.figure()\n",
    "    ax = fig.add_subplot(1,1,1)\n",
    "\n",
    "    for file_path in all_mpts:\n",
    "        header_extracted = determine_header_lines(file_path)\n",
    "        #data_extracted = pd.concat([data_extracted, extract_time_and_voltage(file_path, header_extracted)], ignore_index=True)\n",
    "        data_extracted = pd.concat([data_extracted, extract_time_and_voltage(file_path, header_extracted)], ignore_index=True)\n",
    "        #ax.plot(data_extracted[\"time/s\"], data_extracted[\"Ewe/V\"])\n",
    "    # data_extractedのtime/sを昇順になるようにソート\n",
    "    data_extracted = data_extracted.sort_values('time/s')\n",
    "    return data_extracted\n",
    "    #ax.plot(data_extracted[\"time/s\"], data_extracted[\"Ewe/V\"])\n",
    "    #plt.show()\n",
    "\n",
    "\n",
    "if __name__ == \"__main__\":\n",
    "    CP_grapher(\"/Users/genkioyafuso/Documents/Sacci_lab/STC_grapher/data_dir\")\n"
   ]
  },
  {
   "cell_type": "code",
   "execution_count": null,
   "metadata": {},
   "outputs": [],
   "source": []
  }
 ],
 "metadata": {
  "kernelspec": {
   "display_name": "Python 3",
   "language": "python",
   "name": "python3"
  },
  "language_info": {
   "codemirror_mode": {
    "name": "ipython",
    "version": 3
   },
   "file_extension": ".py",
   "mimetype": "text/x-python",
   "name": "python",
   "nbconvert_exporter": "python",
   "pygments_lexer": "ipython3",
   "version": "3.9.6"
  }
 },
 "nbformat": 4,
 "nbformat_minor": 2
}
